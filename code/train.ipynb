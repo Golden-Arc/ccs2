{
 "cells": [
  {
   "cell_type": "markdown",
   "metadata": {},
   "source": [
    "## Import"
   ]
  },
  {
   "cell_type": "code",
   "execution_count": 1,
   "metadata": {},
   "outputs": [
    {
     "name": "stdout",
     "output_type": "stream",
     "text": [
      "Using device: cpu\n"
     ]
    }
   ],
   "source": [
    "import torch\n",
    "import torch.nn as nn\n",
    "import torch.optim as optim\n",
    "from torch.utils.data import Dataset, DataLoader\n",
    "import pickle\n",
    "import torch.nn.functional as F\n",
    "import numpy as np\n",
    "\n",
    "# 检查GPU是否可用\n",
    "device = torch.device(\"cuda\" if torch.cuda.is_available() else \"cpu\")\n",
    "print(f\"Using device: {device}\")\n"
   ]
  },
  {
   "cell_type": "markdown",
   "metadata": {},
   "source": [
    "## Padding Function"
   ]
  },
  {
   "cell_type": "code",
   "execution_count": 2,
   "metadata": {},
   "outputs": [],
   "source": [
    "def pad_sequence(batch):\n",
    "    # 找出批量中最长的时间步\n",
    "    max_len = max([x.size(0) for x, _, _, _ in batch])\n",
    "    \n",
    "    # 对每个样本进行填充\n",
    "    padded_batch = []\n",
    "    for x, binary_label, phq8_score, gender in batch:\n",
    "        padded_x = F.pad(x, (0,0,0,0,0, max_len - x.size(0)), \"constant\", 0)\n",
    "        padded_batch.append((padded_x, binary_label, phq8_score, gender))\n",
    "        \n",
    "    \n",
    "    # 将所有样本堆叠成批量\n",
    "    spectrograms = torch.stack([x for x, _, _, _ in padded_batch])\n",
    "    binary_labels = torch.stack([binary_label for _, binary_label, _, _ in padded_batch])\n",
    "    phq8_scores = torch.stack([phq8_score for _, _, phq8_score, _ in padded_batch])\n",
    "    genders = torch.stack([gender for _, _, _, gender in padded_batch])\n",
    "    \n",
    "    return spectrograms, binary_labels, phq8_scores, genders"
   ]
  },
  {
   "cell_type": "markdown",
   "metadata": {},
   "source": [
    "## Loading Data"
   ]
  },
  {
   "cell_type": "code",
   "execution_count": 7,
   "metadata": {},
   "outputs": [],
   "source": [
    "# 加载数据\n",
    "with open('../feature/train_spec.pickle', 'rb') as f:\n",
    "    train_spec = pickle.load(f)\n",
    "\n",
    "with open('../feature/train_label.pickle', 'rb') as f:\n",
    "    train_labels = pickle.load(f)\n",
    "\n",
    "\n",
    "class SpectrogramDataset(Dataset):\n",
    "    def __init__(self, specs, labels):\n",
    "        self.specs = specs\n",
    "        self.labels = labels\n",
    "        self.participant_ids = list(specs.keys())\n",
    "\n",
    "    def __len__(self):\n",
    "        return len(self.participant_ids)\n",
    "\n",
    "    def __getitem__(self, idx):\n",
    "        participant_id = self.participant_ids[idx]\n",
    "        spectrograms = self.specs[participant_id]\n",
    "        binary_label, phq8_score, gender = self.labels[participant_id]\n",
    "        spectrogram_tensor = torch.tensor(spectrograms, dtype=torch.float32)\n",
    "        return spectrogram_tensor, torch.tensor(binary_label, dtype=torch.long), torch.tensor(phq8_score, dtype=torch.float32), torch.tensor(gender, dtype=torch.float32)\n",
    "\n",
    "# 创建数据集和数据加载器\n",
    "dataset = SpectrogramDataset(train_spec, train_labels)\n",
    "dataloader = DataLoader(dataset, batch_size=32, shuffle=True, collate_fn=pad_sequence)\n"
   ]
  },
  {
   "cell_type": "markdown",
   "metadata": {},
   "source": [
    "## Transformers Model"
   ]
  },
  {
   "cell_type": "code",
   "execution_count": 8,
   "metadata": {},
   "outputs": [],
   "source": [
    "class MultiHeadAttentionModel(nn.Module):\n",
    "    def __init__(self, input_dim, num_heads, num_classes, aux_input_dim=1):\n",
    "        super(MultiHeadAttentionModel, self).__init__()\n",
    "        self.attention = nn.MultiheadAttention(embed_dim=input_dim, num_heads=num_heads)\n",
    "        self.fc1 = nn.Linear(input_dim + aux_input_dim, 128)  # 加入辅助特征维度\n",
    "        self.fc2_binary = nn.Linear(128, num_classes)\n",
    "        self.fc2_regression = nn.Linear(128, 1)\n",
    "        self.dropout = nn.Dropout(0.5)\n",
    "\n",
    "    def forward(self, x, aux_input):\n",
    "        # x的形状为 (batch_size, num_spectrograms, time_steps, freq_bins)\n",
    "        batch_size, num_spectrograms, time_steps, freq_bins = x.size()\n",
    "        x = x.view(batch_size * num_spectrograms, time_steps, freq_bins)  # 展平batch和num_spectrograms\n",
    "        x = x.transpose(0, 1)  # 转换形状为 (time_steps, batch_size * num_spectrograms, freq_bins)\n",
    "        attn_output, _ = self.attention(x, x, x)\n",
    "        attn_output = attn_output.transpose(0, 1)  # 转回 (batch_size * num_spectrograms, time_steps, freq_bins)\n",
    "        attn_output = attn_output.view(batch_size, num_spectrograms, time_steps, freq_bins)\n",
    "        attn_output = torch.mean(attn_output, dim=2)  # 在time_steps维度上做平均池化\n",
    "        attn_output = torch.mean(attn_output, dim=1)  # 在num_spectrograms维度上做平均池化\n",
    "        \n",
    "        # 加入辅助输入（性别信息）\n",
    "        aux_input = aux_input.unsqueeze(1).float()\n",
    "        attn_output = torch.cat((attn_output, aux_input), dim=1)\n",
    "        \n",
    "        x = self.fc1(attn_output)\n",
    "        x = self.dropout(x)\n",
    "        \n",
    "        binary_output = self.fc2_binary(x)\n",
    "        regression_output = self.fc2_regression(x).squeeze(1)\n",
    "        \n",
    "        return binary_output, regression_output\n",
    "\n",
    "# 设置参数\n",
    "input_dim = train_spec[next(iter(train_spec))][0].shape[1]  # 频谱图的频率维度\n",
    "num_heads = 4\n",
    "num_classes = 2\n",
    "\n",
    "# 初始化模型、损失函数和优化器\n",
    "model = MultiHeadAttentionModel(input_dim, num_heads, num_classes).to(device)\n",
    "criterion_classification = nn.CrossEntropyLoss()\n",
    "criterion_regression = nn.MSELoss()\n",
    "optimizer = optim.Adam(model.parameters(), lr=0.001)\n"
   ]
  },
  {
   "cell_type": "markdown",
   "metadata": {},
   "source": [
    "## Training"
   ]
  },
  {
   "cell_type": "code",
   "execution_count": 9,
   "metadata": {},
   "outputs": [
    {
     "name": "stderr",
     "output_type": "stream",
     "text": [
      "/tmp/ipykernel_18563/3956067886.py:22: UserWarning: Creating a tensor from a list of numpy.ndarrays is extremely slow. Please consider converting the list to a single numpy.ndarray with numpy.array() before converting to a tensor. (Triggered internally at /opt/conda/conda-bld/pytorch_1712608959866/work/torch/csrc/utils/tensor_new.cpp:274.)\n",
      "  spectrogram_tensor = torch.tensor(spectrograms, dtype=torch.float32)\n"
     ]
    },
    {
     "ename": "",
     "evalue": "",
     "output_type": "error",
     "traceback": [
      "\u001b[1;31m在当前单元格或上一个单元格中执行代码时 Kernel 崩溃。\n",
      "\u001b[1;31m请查看单元格中的代码，以确定故障的可能原因。\n",
      "\u001b[1;31m单击<a href='https://aka.ms/vscodeJupyterKernelCrash'>此处</a>了解详细信息。\n",
      "\u001b[1;31m有关更多详细信息，请查看 Jupyter <a href='command:jupyter.viewOutput'>log</a>。"
     ]
    }
   ],
   "source": [
    "# 训练模型\n",
    "num_epochs = 20\n",
    "for epoch in range(num_epochs):\n",
    "    model.train()\n",
    "    for spectrograms, binary_labels, phq8_scores, genders in dataloader:\n",
    "        spectrograms, binary_labels, phq8_scores, genders = spectrograms.to(device), binary_labels.to(device), phq8_scores.to(device), genders.to(device)\n",
    "        optimizer.zero_grad()\n",
    "        binary_outputs, regression_outputs = model(spectrograms, genders)\n",
    "        loss_classification = criterion_classification(binary_outputs, binary_labels)\n",
    "        loss_regression = criterion_regression(regression_outputs, phq8_scores)\n",
    "        loss = loss_classification + loss_regression\n",
    "        loss.backward()\n",
    "        optimizer.step()\n",
    "    print(f'Epoch {epoch+1}/{num_epochs}, Loss: {loss.item()}')\n",
    "\n",
    "# 模型评估（示例）\n",
    "model.eval()\n",
    "correct_classification = 0\n",
    "total_classification = 0\n",
    "total_regression_loss = 0\n",
    "with torch.no_grad():\n",
    "    for spectrograms, binary_labels, phq8_scores, genders in dataloader:\n",
    "        spectrograms, binary_labels, phq8_scores, genders = spectrograms.to(device), binary_labels.to(device), phq8_scores.to(device), genders.to(device)\n",
    "        binary_outputs, regression_outputs = model(spectrograms, genders)\n",
    "        _, predicted = torch.max(binary_outputs.data, 1)\n",
    "        total_classification += binary_labels.size(0)\n",
    "        correct_classification += (predicted == binary_labels).sum().item()\n",
    "        total_regression_loss += criterion_regression(regression_outputs, phq8_scores).item()\n",
    "\n",
    "classification_accuracy = 100 * correct_classification / total_classification\n",
    "mean_regression_loss = total_regression_loss / len(dataloader)\n",
    "print(f'Classification Accuracy: {classification_accuracy}%')\n",
    "print(f'Mean Regression Loss: {mean_regression_loss}')"
   ]
  }
 ],
 "metadata": {
  "kernelspec": {
   "display_name": "Python 3",
   "language": "python",
   "name": "python3"
  },
  "language_info": {
   "codemirror_mode": {
    "name": "ipython",
    "version": 3
   },
   "file_extension": ".py",
   "mimetype": "text/x-python",
   "name": "python",
   "nbconvert_exporter": "python",
   "pygments_lexer": "ipython3",
   "version": "3.11.9"
  }
 },
 "nbformat": 4,
 "nbformat_minor": 2
}
